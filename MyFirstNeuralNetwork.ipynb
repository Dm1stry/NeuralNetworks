{
  "nbformat": 4,
  "nbformat_minor": 0,
  "metadata": {
    "colab": {
      "provenance": [],
      "authorship_tag": "ABX9TyMz6P7jA+m9mh4ths3+9J4a",
      "include_colab_link": true
    },
    "kernelspec": {
      "name": "python3",
      "display_name": "Python 3"
    },
    "language_info": {
      "name": "python"
    }
  },
  "cells": [
    {
      "cell_type": "markdown",
      "metadata": {
        "id": "view-in-github",
        "colab_type": "text"
      },
      "source": [
        "<a href=\"https://colab.research.google.com/github/Dm1stry/NeuralNetworks/blob/main/MyFirstNeuralNetwork.ipynb\" target=\"_parent\"><img src=\"https://colab.research.google.com/assets/colab-badge.svg\" alt=\"Open In Colab\"/></a>"
      ]
    },
    {
      "cell_type": "code",
      "execution_count": null,
      "metadata": {
        "id": "6NGf9_y2pYzP"
      },
      "outputs": [],
      "source": [
        "import numpy as np"
      ]
    },
    {
      "cell_type": "code",
      "source": [
        "class Layer:\n",
        "  def __init__(self):\n",
        "    self.input = None\n",
        "    self.output = None\n",
        "  \n",
        "  def forwardfeed(self, input):\n",
        "    raise NotImplementedError\n",
        "\n",
        "  def backwardfeed(self, output_error, learning_rate):\n",
        "    raise NotImplementedError"
      ],
      "metadata": {
        "id": "mHudP3R3phwr"
      },
      "execution_count": null,
      "outputs": []
    },
    {
      "cell_type": "code",
      "source": [
        "class FCLayer(Layer):\n",
        "  def __init__(self, input_size, output_size):\n",
        "    self.weights = np.random.rand(input_size, output_size) - 0.5\n",
        "    self.bias = np.random.rand(1, output_size) - 0.5\n",
        "\n",
        "  def forwardfeed(self, input_data):\n",
        "    self.input = input_data\n",
        "    self.output = self.input @ self.weights + self.bias\n",
        "    return self.output\n",
        "\n",
        "  def backwardfeed(self, output_error, learning_rate):\n",
        "    input_error = output_error @ np.transpose(self.weights)\n",
        "    weights_error = np.transpose(self.input) @ output_error\n",
        "    bias_error = output_error\n",
        "\n",
        "    self.weights -= learning_rate * weights_error\n",
        "    self.bias -= learning_rate * bias_error\n",
        "    return input_error"
      ],
      "metadata": {
        "id": "SqRiDqm3qTjC"
      },
      "execution_count": null,
      "outputs": []
    },
    {
      "cell_type": "code",
      "source": [
        "class ActivationLayer(Layer):\n",
        "  def __init__(self, activation_func, activation_deriv):\n",
        "    self.activation_func = activation_func\n",
        "    self.activation_deriv = activation_deriv\n",
        "\n",
        "  def forwardfeed(self, input_data):\n",
        "    self.input = input_data\n",
        "    self.output = self.activation_func(input_data)\n",
        "\n",
        "    return self.output\n",
        "\n",
        "  def backwardfeed(self, output_error, learning_rate):\n",
        "    return self.activation_deriv(self.input) * output_error"
      ],
      "metadata": {
        "id": "Jgc46R8lsguZ"
      },
      "execution_count": null,
      "outputs": []
    },
    {
      "cell_type": "code",
      "source": [
        "def tanh(x):\n",
        "  return np.tanh(x)\n",
        "\n",
        "def tanh_deriv(x):\n",
        "  return 1 / (np.cosh(x) ** 2)"
      ],
      "metadata": {
        "id": "FstJWGYquVjj"
      },
      "execution_count": null,
      "outputs": []
    },
    {
      "cell_type": "code",
      "source": [
        "def loss_mse(y_true, y_predicted):\n",
        "  return np.mean(np.power(y_true - y_predicted, 2))\n",
        "\n",
        "def loss_mse_deriv(y_true, y_predicted):\n",
        "  return 2 * ( y_predicted - y_true) / y_true.size"
      ],
      "metadata": {
        "id": "8Hakvpq0vHlh"
      },
      "execution_count": null,
      "outputs": []
    },
    {
      "cell_type": "code",
      "source": [
        "class NeuralNetwork:\n",
        "  def __init__(self, loss = None, loss_deriv = None):\n",
        "    self.layers = []\n",
        "    self.use(loss, loss_deriv)\n",
        "  \n",
        "  def add_layer(self, layer):\n",
        "    self.layers.append(layer)\n",
        "\n",
        "  def use(self, loss, loss_deriv):\n",
        "    self.loss = loss\n",
        "    self.loss_deriv = loss_deriv\n",
        "\n",
        "  def predict(self, x):\n",
        "    result = []\n",
        "    for sample in range(len(x)):\n",
        "      output = x[sample]\n",
        "      for layer in self.layers:\n",
        "        output = layer.forwardfeed(output)\n",
        "      result.append(output)\n",
        "    return np.array(result)\n",
        "\n",
        "  def fit(self, x, y_true, epochs=1000, learning_rate=0.1):\n",
        "    for epoch in range(1, epochs+1):\n",
        "      err = 0\n",
        "      for sample in range(len(x)):\n",
        "        y = x[sample]\n",
        "        for layer in self.layers:\n",
        "          y = layer.forwardfeed(y)\n",
        "        \n",
        "        err += self.loss(y_true[sample], y)\n",
        "\n",
        "        error = self.loss_deriv(y_true[sample], y)\n",
        "\n",
        "        for layer in reversed(self.layers):\n",
        "          error = layer.backwardfeed(error, learning_rate)\n",
        "      if err < 0.000001:\n",
        "        break\n",
        "      if epoch % 100 == 0:\n",
        "        err /= len(x)\n",
        "        print(\"epoch %d/%d  error=%f\" % (epoch, epochs, err))"
      ],
      "metadata": {
        "id": "iJg-GOJvuH_x"
      },
      "execution_count": null,
      "outputs": []
    },
    {
      "cell_type": "code",
      "source": [
        "x_train = np.array([[[0,0]], [[0,1]], [[1,0]], [[1,1]]])\n",
        "y_train = np.array([[[0]], [[1]], [[1]], [[0]]])\n",
        "\n",
        "net = NeuralNetwork(loss_mse, loss_mse_deriv)\n",
        "net.add_layer(FCLayer(2, 5))\n",
        "net.add_layer(ActivationLayer(tanh, tanh_deriv))\n",
        "net.add_layer(FCLayer(5, 3))\n",
        "net.add_layer(ActivationLayer(tanh, tanh_deriv))\n",
        "net.add_layer(FCLayer(3, 1))\n",
        "\n",
        "net.fit(x_train, y_train, learning_rate=0.1)\n",
        "\n",
        "out = np.array(net.predict(x_train))\n",
        "print(\"y_train: \", y_train, '\\nNeuarlNetworkOutput: ', out, '\\nfinal error: ', loss_mse(out, y_train))"
      ],
      "metadata": {
        "colab": {
          "base_uri": "https://localhost:8080/"
        },
        "id": "wsDRHDFiSQl8",
        "outputId": "6960b159-7132-428c-b8e8-b215a1183db0"
      },
      "execution_count": null,
      "outputs": [
        {
          "output_type": "stream",
          "name": "stdout",
          "text": [
            "epoch 100/1000  error=0.279481\n",
            "y_train:  [[[0]]\n",
            "\n",
            " [[1]]\n",
            "\n",
            " [[1]]\n",
            "\n",
            " [[0]]] \n",
            "NeuarlNetworkOutput:  [[[ 3.79301948e-04]]\n",
            "\n",
            " [[ 1.00027625e+00]]\n",
            "\n",
            " [[ 1.00011447e+00]]\n",
            "\n",
            " [[-8.31638679e-06]]] \n",
            "final error:  5.833862518132556e-08\n"
          ]
        }
      ]
    },
    {
      "cell_type": "code",
      "source": [
        "from sklearn import datasets\n",
        "from sklearn.model_selection import train_test_split\n",
        "from sklearn.preprocessing import normalize\n",
        "import pandas as pd\n",
        "\n",
        "data = datasets.load_breast_cancer()\n",
        "ndata = normalize(data.data)\n",
        "\n",
        "data_train, data_test, target_train, target_test = train_test_split(ndata, data.target)\n",
        "\n",
        "cancer_net = NeuralNetwork(loss_mse, loss_mse_deriv)\n",
        "\n",
        "cancer_net.add_layer(FCLayer(30, 45))\n",
        "cancer_net.add_layer(ActivationLayer(tanh, tanh_deriv))\n",
        "cancer_net.add_layer(FCLayer(45, 20))\n",
        "cancer_net.add_layer(ActivationLayer(tanh, tanh_deriv))\n",
        "cancer_net.add_layer(FCLayer(20, 1))"
      ],
      "metadata": {
        "id": "PDjeiZV-aP0O"
      },
      "execution_count": null,
      "outputs": []
    },
    {
      "cell_type": "code",
      "source": [
        "def reformat(data):\n",
        "  if len(data.shape) == 1:\n",
        "    row_len = 1\n",
        "  else:\n",
        "    row_len = data.shape[1]\n",
        "  reformated = np.zeros((data.shape[0], 1, row_len))\n",
        "  for i, row in enumerate(data):\n",
        "    reformated[i][0] = row\n",
        "  return reformated"
      ],
      "metadata": {
        "id": "sOLxhFqlwgF4"
      },
      "execution_count": null,
      "outputs": []
    },
    {
      "cell_type": "code",
      "source": [
        "cancer_net.fit(reformat(data_train), reformat(target_train), epochs=10000)"
      ],
      "metadata": {
        "colab": {
          "base_uri": "https://localhost:8080/"
        },
        "id": "mYtYtMOGwc-3",
        "outputId": "fd18427c-9b60-4f66-d8d2-553ebac391af"
      },
      "execution_count": null,
      "outputs": [
        {
          "output_type": "stream",
          "name": "stdout",
          "text": [
            "epoch 100/10000  error=0.083906\n",
            "epoch 200/10000  error=0.079813\n",
            "epoch 300/10000  error=0.076575\n",
            "epoch 400/10000  error=0.075841\n",
            "epoch 500/10000  error=0.074997\n",
            "epoch 600/10000  error=0.072676\n",
            "epoch 700/10000  error=0.070887\n",
            "epoch 800/10000  error=0.069068\n",
            "epoch 900/10000  error=0.067053\n",
            "epoch 1000/10000  error=0.065110\n",
            "epoch 1100/10000  error=0.062219\n",
            "epoch 1200/10000  error=0.060022\n",
            "epoch 1300/10000  error=0.059085\n",
            "epoch 1400/10000  error=0.058414\n",
            "epoch 1500/10000  error=0.057943\n",
            "epoch 1600/10000  error=0.057609\n",
            "epoch 1700/10000  error=0.057368\n",
            "epoch 1800/10000  error=0.057176\n",
            "epoch 1900/10000  error=0.057029\n",
            "epoch 2000/10000  error=0.056854\n",
            "epoch 2100/10000  error=0.056813\n",
            "epoch 2200/10000  error=0.056930\n",
            "epoch 2300/10000  error=0.057079\n",
            "epoch 2400/10000  error=0.057067\n",
            "epoch 2500/10000  error=0.057934\n",
            "epoch 2600/10000  error=0.056915\n",
            "epoch 2700/10000  error=0.056632\n",
            "epoch 2800/10000  error=0.056522\n",
            "epoch 2900/10000  error=0.056549\n",
            "epoch 3000/10000  error=0.056608\n",
            "epoch 3100/10000  error=0.056688\n",
            "epoch 3200/10000  error=0.056828\n",
            "epoch 3300/10000  error=0.057253\n",
            "epoch 3400/10000  error=0.054765\n",
            "epoch 3500/10000  error=0.055433\n",
            "epoch 3600/10000  error=0.055519\n",
            "epoch 3700/10000  error=0.055754\n",
            "epoch 3800/10000  error=0.055623\n",
            "epoch 3900/10000  error=0.055664\n",
            "epoch 4000/10000  error=0.055805\n",
            "epoch 4100/10000  error=0.056507\n",
            "epoch 4200/10000  error=0.056078\n",
            "epoch 4300/10000  error=0.055767\n",
            "epoch 4400/10000  error=0.056057\n",
            "epoch 4500/10000  error=0.056161\n",
            "epoch 4600/10000  error=0.054468\n",
            "epoch 4700/10000  error=0.055413\n",
            "epoch 4800/10000  error=0.055156\n",
            "epoch 4900/10000  error=0.055264\n",
            "epoch 5000/10000  error=0.055007\n",
            "epoch 5100/10000  error=0.055148\n",
            "epoch 5200/10000  error=0.055824\n",
            "epoch 5300/10000  error=0.055753\n",
            "epoch 5400/10000  error=0.056803\n",
            "epoch 5500/10000  error=0.056273\n",
            "epoch 5600/10000  error=0.056975\n",
            "epoch 5700/10000  error=0.054713\n",
            "epoch 5800/10000  error=0.055139\n",
            "epoch 5900/10000  error=0.054915\n",
            "epoch 6000/10000  error=0.054878\n",
            "epoch 6100/10000  error=0.054586\n",
            "epoch 6200/10000  error=0.054807\n",
            "epoch 6300/10000  error=0.055627\n",
            "epoch 6400/10000  error=0.058290\n",
            "epoch 6500/10000  error=0.055058\n",
            "epoch 6600/10000  error=0.053622\n",
            "epoch 6700/10000  error=0.054655\n",
            "epoch 6800/10000  error=0.055377\n",
            "epoch 6900/10000  error=0.054864\n",
            "epoch 7000/10000  error=0.054577\n",
            "epoch 7100/10000  error=0.054899\n",
            "epoch 7200/10000  error=0.057946\n",
            "epoch 7300/10000  error=0.055148\n",
            "epoch 7400/10000  error=0.053596\n",
            "epoch 7500/10000  error=0.055092\n",
            "epoch 7600/10000  error=0.055621\n",
            "epoch 7700/10000  error=0.054588\n",
            "epoch 7800/10000  error=0.054432\n",
            "epoch 7900/10000  error=0.054293\n",
            "epoch 8000/10000  error=0.054511\n",
            "epoch 8100/10000  error=0.057300\n",
            "epoch 8200/10000  error=0.054726\n",
            "epoch 8300/10000  error=0.053302\n",
            "epoch 8400/10000  error=0.054887\n",
            "epoch 8500/10000  error=0.055632\n",
            "epoch 8600/10000  error=0.054284\n",
            "epoch 8700/10000  error=0.055229\n",
            "epoch 8800/10000  error=0.054376\n",
            "epoch 8900/10000  error=0.055039\n",
            "epoch 9000/10000  error=0.054218\n",
            "epoch 9100/10000  error=0.053327\n",
            "epoch 9200/10000  error=0.054790\n",
            "epoch 9300/10000  error=0.055664\n",
            "epoch 9400/10000  error=0.054276\n",
            "epoch 9500/10000  error=0.054444\n",
            "epoch 9600/10000  error=0.055186\n",
            "epoch 9700/10000  error=0.054866\n",
            "epoch 9800/10000  error=0.054292\n",
            "epoch 9900/10000  error=0.057456\n",
            "epoch 10000/10000  error=0.054330\n"
          ]
        }
      ]
    },
    {
      "cell_type": "code",
      "source": [
        "out = cancer_net.predict(data_test).astype(int)\n",
        "df = pd.DataFrame(data={'y_predict' : out.reshape(143), 'y_true' : target_test.reshape(143)})\n",
        "loss_mse(out, reformat(target_test))"
      ],
      "metadata": {
        "colab": {
          "base_uri": "https://localhost:8080/"
        },
        "id": "7qX343PZB-ME",
        "outputId": "7586c835-964f-4e7b-d4ca-eaaf6675f989"
      },
      "execution_count": null,
      "outputs": [
        {
          "output_type": "execute_result",
          "data": {
            "text/plain": [
              "0.16783216783216784"
            ]
          },
          "metadata": {},
          "execution_count": 73
        }
      ]
    }
  ]
}